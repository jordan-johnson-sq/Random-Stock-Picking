{
 "cells": [
  {
   "cell_type": "code",
   "execution_count": 87,
   "id": "c8a78475",
   "metadata": {},
   "outputs": [],
   "source": [
    "import pandas as pd\n",
    "import matplotlib.pyplot as plt\n",
    "import numpy as np\n",
    "from scipy import stats as st\n",
    "import statistics"
   ]
  },
  {
   "cell_type": "code",
   "execution_count": 226,
   "id": "97421523",
   "metadata": {},
   "outputs": [],
   "source": [
    "# creates test dataset\n",
    "rng = np.random.default_rng()\n",
    "test_data = rng.normal(loc=10, scale=7, size=10000)"
   ]
  },
  {
   "cell_type": "code",
   "execution_count": 199,
   "id": "fcc98825",
   "metadata": {},
   "outputs": [],
   "source": [
    "def bootstrap(data, sample_size=10, num_of_samples=10000):\n",
    "    bootstrapped_means = np.array([])\n",
    "\n",
    "    for i in range(num_of_samples):\n",
    "        bootstrapped_sample = np.random.choice(data, size=sample_size, replace=True)\n",
    "        mean = bootstrapped_sample.mean()\n",
    "        bootstrapped_means = np.append(bootstrapped_means, mean)\n",
    "    \n",
    "    return bootstrapped_means"
   ]
  },
  {
   "cell_type": "code",
   "execution_count": 290,
   "id": "a4a754ee",
   "metadata": {
    "scrolled": true
   },
   "outputs": [],
   "source": [
    "def MakeLessThan(prob=0.05, bootstrapped_means=bootstrapped_means):\n",
    "    \n",
    "    standard_deviation = np.std(bootstrapped_means)\n",
    "    mean_of_means = np.mean(bootstrapped_means)\n",
    "    \n",
    "    calc_z = st.norm.ppf(prob)\n",
    "    \n",
    "    make_less_than = calc_z * standard_deviation + mean_of_means\n",
    "    \n",
    "    return make_less_than"
   ]
  },
  {
   "cell_type": "code",
   "execution_count": 291,
   "id": "66f56921",
   "metadata": {},
   "outputs": [],
   "source": [
    "def ProbOfLessThan(percent_return=5, bootstrapped_means=bootstrapped_means): \n",
    "    \n",
    "    standard_deviation = np.std(bootstrapped_means)\n",
    "    mean_of_means = np.mean(bootstrapped_means)\n",
    "    \n",
    "    z = statistics.NormalDist(mean_of_means, standard_deviation).zscore(percent_return) \n",
    "    \n",
    "    prob_of_less_than = st.norm.cdf(z)\n",
    "    \n",
    "    return prob_of_less_than"
   ]
  },
  {
   "cell_type": "code",
   "execution_count": 299,
   "id": "10ad166c",
   "metadata": {},
   "outputs": [],
   "source": [
    "def NumOfStocks(data, percent_return=1, prob_percent_return=0.05, pool_num=500):\n",
    "    \n",
    "    for i in range(1, pool_num+1):\n",
    "        \n",
    "        bootstrapped_means = bootstrap(data=data, sample_size=i)\n",
    "\n",
    "        prob = ProbOfLessThan(bootstrapped_means=bootstrapped_means, percent_return=percent_return)\n",
    "        \n",
    "        if prob <= prob_percent_return: \n",
    "            return i, prob"
   ]
  },
  {
   "cell_type": "code",
   "execution_count": 293,
   "id": "738d7f87",
   "metadata": {},
   "outputs": [],
   "source": [
    "bootstrapped_means = bootstrap(test_data)"
   ]
  },
  {
   "cell_type": "code",
   "execution_count": 228,
   "id": "7dee8638",
   "metadata": {},
   "outputs": [
    {
     "data": {
      "image/png": "[encoded data removed]",
      "text/plain": [
       "<Figure size 640x480 with 1 Axes>"
      ]
     },
     "metadata": {},
     "output_type": "display_data"
    }
   ],
   "source": [
    "plt.hist(bootstrapped_means, bins=100)\n",
    "plt.xlabel('Stock Return')\n",
    "plt.ylabel('# of sample means')\n",
    "plt.show()"
   ]
  }
 ],
 "metadata": {
  "kernelspec": {
   "display_name": "Python 3 (ipykernel)",
   "language": "python",
   "name": "python3"
  },
  "language_info": {
   "codemirror_mode": {
    "name": "ipython",
    "version": 3
   },
   "file_extension": ".py",
   "mimetype": "text/x-python",
   "name": "python",
   "nbconvert_exporter": "python",
   "pygments_lexer": "ipython3",
   "version": "3.9.13"
  }
 },
 "nbformat": 4,
 "nbformat_minor": 5
}
